{
 "cells": [
  {
   "cell_type": "code",
   "execution_count": 1,
   "id": "a5549719",
   "metadata": {},
   "outputs": [],
   "source": [
    "#To check even or add:"
   ]
  },
  {
   "cell_type": "code",
   "execution_count": 4,
   "id": "7f9c4db4",
   "metadata": {},
   "outputs": [
    {
     "name": "stdout",
     "output_type": "stream",
     "text": [
      "Enter a number:8\n",
      "8 is even\n"
     ]
    }
   ],
   "source": [
    "num=int(input(\"Enter a number:\"))\n",
    "if num%2==0:\n",
    "    print(num,\"is even\")\n",
    "else:\n",
    "    print(num,\"is odd\")"
   ]
  },
  {
   "cell_type": "code",
   "execution_count": null,
   "id": "d7197431",
   "metadata": {},
   "outputs": [],
   "source": [
    "#check positive,negative or zero"
   ]
  },
  {
   "cell_type": "code",
   "execution_count": 1,
   "id": "9e824245",
   "metadata": {},
   "outputs": [
    {
     "name": "stdout",
     "output_type": "stream",
     "text": [
      "Enter a number: -34\n",
      "-ve number\n"
     ]
    }
   ],
   "source": [
    "num=float(input(\"Enter a number: \"))\n",
    "if num>0:\n",
    "    print(\"+ve number\")\n",
    "elif num==0:\n",
    "    print(\"zero\")\n",
    "else:\n",
    "    print(\"-ve number\")"
   ]
  },
  {
   "cell_type": "code",
   "execution_count": 11,
   "id": "882c58c0",
   "metadata": {},
   "outputs": [
    {
     "name": "stdout",
     "output_type": "stream",
     "text": [
      "Enter a number:5\n",
      "The factorial of 5 is 120\n"
     ]
    }
   ],
   "source": [
    "#factorial of a number:\n",
    "num=int(input(\"Enter a number:\"))\n",
    "factorial=1\n",
    "#check if the number is negative,positive or zero\n",
    "if num<0:\n",
    "    print(\"Sorry,factorial doesnt exists for negative numbers\")\n",
    "elif num==0:\n",
    "    print(\"The factorial of 0 is 1\")\n",
    "else:\n",
    "    for i in range(1,num+1):\n",
    "        factorial=factorial*i\n",
    "    print(\"The factorial of\",num,\"is\",factorial)"
   ]
  },
  {
   "cell_type": "code",
   "execution_count": 7,
   "id": "32b3a63f",
   "metadata": {},
   "outputs": [
    {
     "name": "stdout",
     "output_type": "stream",
     "text": [
      "Enter a number:123\n",
      "Reverse of the number: 321\n"
     ]
    }
   ],
   "source": [
    "#Reversing a number:\n",
    "n=int(input(\"Enter a number:\"))\n",
    "rev=0\n",
    "while n>0:\n",
    "    dig=n%10\n",
    "    rev=rev*10+dig\n",
    "    n=n//10\n",
    "print(\"Reverse of the number:\",rev)"
   ]
  },
  {
   "cell_type": "code",
   "execution_count": 8,
   "id": "0cca7d7f",
   "metadata": {
    "scrolled": true
   },
   "outputs": [
    {
     "name": "stdout",
     "output_type": "stream",
     "text": [
      "Enter a number:121\n",
      "The number is a palindrome!\n"
     ]
    }
   ],
   "source": [
    "#check if it is a palindrome:\n",
    "n=int(input(\"Enter a number:\"))\n",
    "temp=n\n",
    "rev=0\n",
    "while n>0:\n",
    "    dig=n%10\n",
    "    rev=rev*10+dig\n",
    "    n=n//10\n",
    "if temp==rev:\n",
    "    print(\"The number is a palindrome!\")\n",
    "else:\n",
    "    print(\"The number isn't a palindrome\")"
   ]
  },
  {
   "cell_type": "code",
   "execution_count": 12,
   "id": "3237e25c",
   "metadata": {},
   "outputs": [
    {
     "name": "stdout",
     "output_type": "stream",
     "text": [
      "Enter a number:5\n",
      "3\n"
     ]
    }
   ],
   "source": [
    "#fibinacci sequence-0,1,1,2,3,5,8...\n",
    "n=int(input(\"Enter a number:\"))\n",
    "a=0\n",
    "b=1\n",
    "if n<0:\n",
    "    print(\"Incorrect input:\")\n",
    "elif n==0:\n",
    "    print(a)\n",
    "elif n==1:\n",
    "    print(a)\n",
    "else:\n",
    "    for i in range(2,n):\n",
    "        c=a+b\n",
    "        a=b\n",
    "        b=c\n",
    "    print(b)\n",
    "    # in this output 5 is a 3rd element"
   ]
  },
  {
   "cell_type": "code",
   "execution_count": null,
   "id": "da828a00",
   "metadata": {},
   "outputs": [],
   "source": []
  }
 ],
 "metadata": {
  "kernelspec": {
   "display_name": "Python 3 (ipykernel)",
   "language": "python",
   "name": "python3"
  },
  "language_info": {
   "codemirror_mode": {
    "name": "ipython",
    "version": 3
   },
   "file_extension": ".py",
   "mimetype": "text/x-python",
   "name": "python",
   "nbconvert_exporter": "python",
   "pygments_lexer": "ipython3",
   "version": "3.9.7"
  }
 },
 "nbformat": 4,
 "nbformat_minor": 5
}
